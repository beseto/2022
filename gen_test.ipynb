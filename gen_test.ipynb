{
 "cells": [
  {
   "cell_type": "code",
   "execution_count": 1,
   "metadata": {},
   "outputs": [],
   "source": [
    "keywords = ['', 'Schizophrenia and related disorders', 'Mood disorders', 'Neurotic disorders and related disorders', 'Personality disorders', 'Epilepsy', 'Dementia', 'Behavioural syndromes associated with physiological disturbances and physical factors', 'Organic and symptomatic mental disorders', 'Substance abuse and dependence', 'Mental disorders in childhood and adolescence', 'Sleep disorders', 'Mental retardation', 'Mental disorders in old age', 'Forensic psychiatry', 'Mental health and welfare', 'Medical education', 'Psychopathology', 'Neuropsychology', 'Neurophysiology', 'Psychopharmacology', 'Neurochemistry', 'Neuropathology', 'Genetics and molecular genetics', 'Epidemiology', 'Community mental health services', 'Emergency psychiatry', 'Consultation-liaison psychiatry', 'Psychiatric diagnosis', 'Symptomatology', 'Pharmacotherapy', 'Psychotherapy', 'Psychosocial therapy/psychoeducation', 'ECT/TMS/neuromodulation', 'Laboratory tests/biomarkers', 'Neuroimaging', 'Animal model/basic research', 'Suicide prevention', 'Occupational mental health', 'Social psychiatry', 'COVID-19', 'AI', 'Others']\n"
   ]
  },
  {
   "cell_type": "code",
   "execution_count": 19,
   "metadata": {},
   "outputs": [],
   "source": [
    "import pandas as pd\n",
    "import sys\n",
    "from pathlib import Path\n",
    "import yaml"
   ]
  },
  {
   "cell_type": "code",
   "execution_count": 54,
   "metadata": {},
   "outputs": [],
   "source": [
    "df = pd.read_excel('list.xlsx', dtype={'KeywordIDs': str, 'Order': int})"
   ]
  },
  {
   "cell_type": "code",
   "execution_count": 44,
   "metadata": {},
   "outputs": [],
   "source": [
    "def generate_program(tbl: pd.DataFrame):\n",
    "    # pre-defined structures\n",
    "    def get_entries(df: pd.DataFrame) -> list[dict[str, str]]:\n",
    "        res: list[dict[str,str]] = []\n",
    "        for row in df.to_dict('records'):\n",
    "            item = {\n",
    "                'name': row['Title'],\n",
    "                'time_start': row['StartTime'].strftime('%-H:%M'),\n",
    "                'time_end': row['EndTime'].strftime('%-H:%M')\n",
    "            }\n",
    "            res.append(item)\n",
    "        return res\n",
    "\n",
    "    res = {\n",
    "        'days': [{\n",
    "            'name': 'BESETO',\n",
    "            'abbr': 'BESETO',\n",
    "            'date': '2022-11-13',\n",
    "            'rooms': [\n",
    "                {\n",
    "                    'name': 'Main',\n",
    "                    'talks': get_entries(tbl[tbl['Type'] != 'Short Oral']),\n",
    "                },\n",
    "                {\n",
    "                    'name': 'Room A',\n",
    "                    'talks': get_entries(tbl[tbl['Room'] == 'A']),\n",
    "                },\n",
    "                {\n",
    "                    'name': 'Room B',\n",
    "                    'talks': get_entries(tbl[tbl['Room'] == 'B']),\n",
    "                },\n",
    "                {\n",
    "                    'name': 'Room C',\n",
    "                    'talks': get_entries(tbl[tbl['Room'] == 'C']),\n",
    "                },\n",
    "                {\n",
    "                    'name': 'Room D',\n",
    "                    'talks': get_entries(tbl[tbl['Room'] == 'D']),\n",
    "                },\n",
    "                {\n",
    "                    'name': 'Room E',\n",
    "                    'talks': get_entries(tbl[tbl['Room'] == 'E']),\n",
    "                },\n",
    "            ]\n",
    "        }]\n",
    "    }\n",
    "    yaml.dump(res, open(Path('.') / '_data' / 'program.yml', 'w'), sort_keys=False)"
   ]
  },
  {
   "cell_type": "code",
   "execution_count": 61,
   "metadata": {},
   "outputs": [],
   "source": [
    "def generate_talks(tbl: pd.DataFrame):\n",
    "    content = '''---\n",
    "name: {Title}\n",
    "speakers:\n",
    "  - {Presenter}\n",
    "categories:\n",
    "  - {Type}\n",
    "  - {Institution}\n",
    "{cats}{links}\n",
    "---\n",
    "\n",
    "{Abstract}\n",
    "'''\n",
    "\n",
    "    for talk in tbl.to_dict('records'):\n",
    "        cats = ''\n",
    "        for kid in talk['KeywordIDs'].split(','):\n",
    "            if kid != '':\n",
    "                cats += f'  - {keywords[int(float(kid))]}\\n'\n",
    "        fname = talk['Title'].lower().replace(' ', '_').replace('/', '_').replace(':', '_')\n",
    "        links = ''\n",
    "        if talk['Type'] == 'Short Oral':\n",
    "            links = f'''links:\n",
    "  - name: Slides\n",
    "    file: dummy.pdf\n",
    "'''\n",
    "        # filename should be replaced with {fname}.{talk['SlideExt']}\n",
    "        with open(Path('.') / '_talks' / f'{fname}.md', 'w') as f:\n",
    "            f.write(content.format(**talk, cats=cats, links=links))"
   ]
  },
  {
   "cell_type": "code",
   "execution_count": 48,
   "metadata": {},
   "outputs": [],
   "source": [
    "def generate_persons(tbl: pd.DataFrame):\n",
    "    content = '''---\n",
    "name: {name}\n",
    "first_name: {fst}\n",
    "last_name: {lst}\n",
    "---\n",
    "\n",
    "'''\n",
    "\n",
    "    done_names = set()\n",
    "    for talk in tbl.to_dict('records'):\n",
    "        name = talk['Presenter']\n",
    "        if name.startswith('Mr.'):\n",
    "            name = ' '.join(name.split(' ')[1:])\n",
    "        fst, lst = name.split(' ')\n",
    "        fname = name.lower().replace(' ', '_').replace('/', '_').replace(':', '_')\n",
    "        with open(Path('.') / '_speakers' / f'{fname}.md', 'w') as f:\n",
    "            f.write(content.format(name=name, fst=fst, lst=lst))"
   ]
  },
  {
   "cell_type": "code",
   "execution_count": 50,
   "metadata": {},
   "outputs": [],
   "source": [
    "def reset_all():\n",
    "    for f in Path('.').glob('_speakers/*.md'):\n",
    "        f.unlink()\n",
    "    for f in Path('.').glob('_talks/*.md'):\n",
    "        f.unlink()\n",
    "    f = Path('.') / '_data' / 'program.yml'\n",
    "    if f.exists():\n",
    "        f.unlink()\n"
   ]
  },
  {
   "cell_type": "code",
   "execution_count": 62,
   "metadata": {},
   "outputs": [],
   "source": [
    "reset_all()\n",
    "generate_program(df)\n",
    "generate_talks(df)\n",
    "generate_persons(df)"
   ]
  },
  {
   "cell_type": "code",
   "execution_count": null,
   "metadata": {},
   "outputs": [],
   "source": []
  }
 ],
 "metadata": {
  "kernelspec": {
   "display_name": "Python 3.9.12 64-bit ('base')",
   "language": "python",
   "name": "python3"
  },
  "language_info": {
   "codemirror_mode": {
    "name": "ipython",
    "version": 3
   },
   "file_extension": ".py",
   "mimetype": "text/x-python",
   "name": "python",
   "nbconvert_exporter": "python",
   "pygments_lexer": "ipython3",
   "version": "3.9.12"
  },
  "orig_nbformat": 4,
  "vscode": {
   "interpreter": {
    "hash": "38d501d0897e58116008959b5c118ae6357e82f1948c8990fd19c79ffbae80f4"
   }
  }
 },
 "nbformat": 4,
 "nbformat_minor": 2
}
